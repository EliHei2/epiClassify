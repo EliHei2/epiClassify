{
  "nbformat": 4,
  "nbformat_minor": 0,
  "metadata": {
    "colab": {
      "name": "Real_rnaseq_atacseq_scanpy.ipynb",
      "provenance": []
    },
    "kernelspec": {
      "name": "python3",
      "display_name": "Python 3"
    }
  },
  "cells": [
    {
      "cell_type": "code",
      "metadata": {
        "colab": {
          "base_uri": "https://localhost:8080/"
        },
        "id": "vZrmzJRyEPE-",
        "outputId": "e7a63db3-7741-403d-ed99-0f7b48175fc6"
      },
      "source": [
        "from google.colab import drive\n",
        "drive.mount('/content/drive')"
      ],
      "execution_count": 1,
      "outputs": [
        {
          "output_type": "stream",
          "text": [
            "Mounted at /content/drive\n"
          ],
          "name": "stdout"
        }
      ]
    },
    {
      "cell_type": "code",
      "metadata": {
        "colab": {
          "base_uri": "https://localhost:8080/",
          "height": 1000
        },
        "id": "pft1TfozEViD",
        "outputId": "f6fedfe4-0f78-4ea9-9041-5ff11e67f738"
      },
      "source": [
        "!pip install scanpy\n",
        "!pip install pillow --upgrade\n",
        "!pip install python-igraph\n",
        "!pip install graspologic\n",
        "!pip install networkx\n",
        "!pip install matplotlib\n",
        "!pip install torch-sparse -f https://pytorch-geometric.com/whl/torch-1.7.0+cu101.html\n",
        "!pip install torch-scatter==latest+cu101 torch-sparse==latest+cu101 -f https://pytorch-geometric.com/whl/torch-1.7.0.html\n",
        "!pip install torch_geometric\n",
        "!pip install captum"
      ],
      "execution_count": 2,
      "outputs": [
        {
          "output_type": "stream",
          "text": [
            "Collecting scanpy\n",
            "\u001b[?25l  Downloading https://files.pythonhosted.org/packages/f1/5e/425ed9ddca83fac43eb328ebf1aa41e4cdcdc17c6d294495b34d9a243ddd/scanpy-1.6.0-py3-none-any.whl (7.7MB)\n",
            "\u001b[K     |████████████████████████████████| 7.7MB 13.5MB/s \n",
            "\u001b[?25hCollecting sinfo\n",
            "  Downloading https://files.pythonhosted.org/packages/e1/4c/aef8456284f1a1c3645b938d9ca72388c9c4878e6e67b8a349c7d22fac78/sinfo-0.3.1.tar.gz\n",
            "Requirement already satisfied: scipy>=1.4 in /usr/local/lib/python3.6/dist-packages (from scanpy) (1.4.1)\n",
            "Requirement already satisfied: scikit-learn>=0.21.2 in /usr/local/lib/python3.6/dist-packages (from scanpy) (0.22.2.post1)\n",
            "Requirement already satisfied: numpy>=1.17.0 in /usr/local/lib/python3.6/dist-packages (from scanpy) (1.19.4)\n",
            "Requirement already satisfied: patsy in /usr/local/lib/python3.6/dist-packages (from scanpy) (0.5.1)\n",
            "Requirement already satisfied: pandas>=0.21 in /usr/local/lib/python3.6/dist-packages (from scanpy) (1.1.5)\n",
            "Requirement already satisfied: numba>=0.41.0 in /usr/local/lib/python3.6/dist-packages (from scanpy) (0.48.0)\n",
            "Requirement already satisfied: tables in /usr/local/lib/python3.6/dist-packages (from scanpy) (3.4.4)\n",
            "Requirement already satisfied: importlib-metadata>=0.7; python_version < \"3.8\" in /usr/local/lib/python3.6/dist-packages (from scanpy) (3.3.0)\n",
            "Requirement already satisfied: matplotlib>=3.1.2 in /usr/local/lib/python3.6/dist-packages (from scanpy) (3.2.2)\n",
            "Requirement already satisfied: natsort in /usr/local/lib/python3.6/dist-packages (from scanpy) (5.5.0)\n",
            "Collecting anndata>=0.7\n",
            "\u001b[?25l  Downloading https://files.pythonhosted.org/packages/81/b1/743cc79f89d9db6dccbfb7e6000795acb218a6c6320b7a2337cad99bd047/anndata-0.7.5-py3-none-any.whl (119kB)\n",
            "\u001b[K     |████████████████████████████████| 122kB 49.2MB/s \n",
            "\u001b[?25hRequirement already satisfied: seaborn in /usr/local/lib/python3.6/dist-packages (from scanpy) (0.11.0)\n",
            "Collecting legacy-api-wrap\n",
            "  Downloading https://files.pythonhosted.org/packages/a4/68/da997bc56bb69dcdcee4054f0bc42266909307b905389fbc54c9158f42da/legacy_api_wrap-1.2-py3-none-any.whl\n",
            "Requirement already satisfied: networkx>=2.3 in /usr/local/lib/python3.6/dist-packages (from scanpy) (2.5)\n",
            "Requirement already satisfied: statsmodels>=0.10.0rc2 in /usr/local/lib/python3.6/dist-packages (from scanpy) (0.10.2)\n",
            "Requirement already satisfied: h5py>=2.10.0 in /usr/local/lib/python3.6/dist-packages (from scanpy) (2.10.0)\n",
            "Requirement already satisfied: umap-learn>=0.3.10 in /usr/local/lib/python3.6/dist-packages (from scanpy) (0.4.6)\n",
            "Collecting setuptools-scm\n",
            "  Downloading https://files.pythonhosted.org/packages/db/6e/2815f7c8561b088ccedc128681e64daac3d6b2e81a9918b007e244dad8b1/setuptools_scm-5.0.1-py2.py3-none-any.whl\n",
            "Requirement already satisfied: packaging in /usr/local/lib/python3.6/dist-packages (from scanpy) (20.8)\n",
            "Requirement already satisfied: joblib in /usr/local/lib/python3.6/dist-packages (from scanpy) (1.0.0)\n",
            "Requirement already satisfied: tqdm in /usr/local/lib/python3.6/dist-packages (from scanpy) (4.41.1)\n",
            "Collecting stdlib_list\n",
            "\u001b[?25l  Downloading https://files.pythonhosted.org/packages/7a/b1/52f59dcf31ead2f0ceff8976288449608d912972b911f55dff712cef5719/stdlib_list-0.8.0-py3-none-any.whl (63kB)\n",
            "\u001b[K     |████████████████████████████████| 71kB 7.1MB/s \n",
            "\u001b[?25hRequirement already satisfied: six in /usr/local/lib/python3.6/dist-packages (from patsy->scanpy) (1.15.0)\n",
            "Requirement already satisfied: python-dateutil>=2.7.3 in /usr/local/lib/python3.6/dist-packages (from pandas>=0.21->scanpy) (2.8.1)\n",
            "Requirement already satisfied: pytz>=2017.2 in /usr/local/lib/python3.6/dist-packages (from pandas>=0.21->scanpy) (2018.9)\n",
            "Requirement already satisfied: llvmlite<0.32.0,>=0.31.0dev0 in /usr/local/lib/python3.6/dist-packages (from numba>=0.41.0->scanpy) (0.31.0)\n",
            "Requirement already satisfied: setuptools in /usr/local/lib/python3.6/dist-packages (from numba>=0.41.0->scanpy) (51.0.0)\n",
            "Requirement already satisfied: numexpr>=2.5.2 in /usr/local/lib/python3.6/dist-packages (from tables->scanpy) (2.7.1)\n",
            "Requirement already satisfied: zipp>=0.5 in /usr/local/lib/python3.6/dist-packages (from importlib-metadata>=0.7; python_version < \"3.8\"->scanpy) (3.4.0)\n",
            "Requirement already satisfied: typing-extensions>=3.6.4; python_version < \"3.8\" in /usr/local/lib/python3.6/dist-packages (from importlib-metadata>=0.7; python_version < \"3.8\"->scanpy) (3.7.4.3)\n",
            "Requirement already satisfied: kiwisolver>=1.0.1 in /usr/local/lib/python3.6/dist-packages (from matplotlib>=3.1.2->scanpy) (1.3.1)\n",
            "Requirement already satisfied: cycler>=0.10 in /usr/local/lib/python3.6/dist-packages (from matplotlib>=3.1.2->scanpy) (0.10.0)\n",
            "Requirement already satisfied: pyparsing!=2.0.4,!=2.1.2,!=2.1.6,>=2.0.1 in /usr/local/lib/python3.6/dist-packages (from matplotlib>=3.1.2->scanpy) (2.4.7)\n",
            "Collecting get-version>=2.0.4\n",
            "\u001b[?25l  Downloading https://files.pythonhosted.org/packages/23/48/7610e884e62fff2183e7bc8592397c39a020267fb5147905fcd3f9cc820c/get_version-2.1-py3-none-any.whl (43kB)\n",
            "\u001b[K     |████████████████████████████████| 51kB 6.0MB/s \n",
            "\u001b[?25hRequirement already satisfied: decorator>=4.3.0 in /usr/local/lib/python3.6/dist-packages (from networkx>=2.3->scanpy) (4.4.2)\n",
            "Building wheels for collected packages: sinfo\n",
            "  Building wheel for sinfo (setup.py) ... \u001b[?25l\u001b[?25hdone\n",
            "  Created wheel for sinfo: filename=sinfo-0.3.1-cp36-none-any.whl size=7018 sha256=fdfd4b66526cfa1b88cef2f74ee8d35731a1b50f21de33048632d510c3f906fb\n",
            "  Stored in directory: /root/.cache/pip/wheels/11/f0/23/347d6d8e59787c2bc272162d18223dc3b45bd6dc40aceee6af\n",
            "Successfully built sinfo\n",
            "Installing collected packages: stdlib-list, sinfo, anndata, get-version, legacy-api-wrap, setuptools-scm, scanpy\n",
            "Successfully installed anndata-0.7.5 get-version-2.1 legacy-api-wrap-1.2 scanpy-1.6.0 setuptools-scm-5.0.1 sinfo-0.3.1 stdlib-list-0.8.0\n",
            "Collecting pillow\n",
            "\u001b[?25l  Downloading https://files.pythonhosted.org/packages/b6/c0/442d9d87e0da00bf856ef6dd4916f84a2d710b5f1a367d42d7f3c4e99a6c/Pillow-8.1.0-cp36-cp36m-manylinux1_x86_64.whl (2.2MB)\n",
            "\u001b[K     |████████████████████████████████| 2.2MB 11.2MB/s \n",
            "\u001b[31mERROR: albumentations 0.1.12 has requirement imgaug<0.2.7,>=0.2.5, but you'll have imgaug 0.2.9 which is incompatible.\u001b[0m\n",
            "\u001b[?25hInstalling collected packages: pillow\n",
            "  Found existing installation: Pillow 7.0.0\n",
            "    Uninstalling Pillow-7.0.0:\n",
            "      Successfully uninstalled Pillow-7.0.0\n",
            "Successfully installed pillow-8.1.0\n"
          ],
          "name": "stdout"
        },
        {
          "output_type": "display_data",
          "data": {
            "application/vnd.colab-display-data+json": {
              "pip_warning": {
                "packages": [
                  "PIL"
                ]
              }
            }
          },
          "metadata": {
            "tags": []
          }
        },
        {
          "output_type": "stream",
          "text": [
            "Collecting python-igraph\n",
            "\u001b[?25l  Downloading https://files.pythonhosted.org/packages/20/6e/3ac2fc339051f652d4a01570d133e4d15321aaec929ffb5f49a67852f8d9/python_igraph-0.8.3-cp36-cp36m-manylinux2010_x86_64.whl (3.2MB)\n",
            "\u001b[K     |████████████████████████████████| 3.2MB 10.9MB/s \n",
            "\u001b[?25hCollecting texttable>=1.6.2\n",
            "  Downloading https://files.pythonhosted.org/packages/06/f5/46201c428aebe0eecfa83df66bf3e6caa29659dbac5a56ddfd83cae0d4a4/texttable-1.6.3-py2.py3-none-any.whl\n",
            "Installing collected packages: texttable, python-igraph\n",
            "Successfully installed python-igraph-0.8.3 texttable-1.6.3\n",
            "Collecting graspologic\n",
            "\u001b[?25l  Downloading https://files.pythonhosted.org/packages/32/f2/bf283169d8ade6fd26bc046b2215d806ad2488bbdc595b43da5256681a16/graspologic-0.1.0.dev465176579.tar.gz (5.1MB)\n",
            "\u001b[K     |████████████████████████████████| 5.1MB 11.9MB/s \n",
            "\u001b[?25hCollecting anytree>=2.8.0\n",
            "\u001b[?25l  Downloading https://files.pythonhosted.org/packages/a8/65/be23d8c3ecd68d40541d49812cd94ed0f3ee37eb88669ca15df0e43daed1/anytree-2.8.0-py2.py3-none-any.whl (41kB)\n",
            "\u001b[K     |████████████████████████████████| 51kB 5.3MB/s \n",
            "\u001b[?25hCollecting gensim<=3.9.0,>=3.8.0\n",
            "\u001b[?25l  Downloading https://files.pythonhosted.org/packages/2b/e0/fa6326251692056dc880a64eb22117e03269906ba55a6864864d24ec8b4e/gensim-3.8.3-cp36-cp36m-manylinux1_x86_64.whl (24.2MB)\n",
            "\u001b[K     |████████████████████████████████| 24.2MB 1.9MB/s \n",
            "\u001b[?25hCollecting graspologic-native\n",
            "\u001b[?25l  Downloading https://files.pythonhosted.org/packages/c7/dd/8e4bd538a718d2dc9966a1c30d0921a473d1b807bc03e4cc96649057ec21/graspologic_native-0.1.0-cp36-cp36m-manylinux1_x86_64.whl (932kB)\n",
            "\u001b[K     |████████████████████████████████| 942kB 45.2MB/s \n",
            "\u001b[?25hCollecting hyppo>=0.1.3\n",
            "  Downloading https://files.pythonhosted.org/packages/56/3f/ce79c20fc0ada6b36897883a8cb30cd0b6e18d4b8becd5143fb134480433/hyppo-0.1.3.tar.gz\n",
            "Requirement already satisfied: joblib>=0.17.0 in /usr/local/lib/python3.6/dist-packages (from graspologic) (1.0.0)\n",
            "Requirement already satisfied: matplotlib<=3.3.0,>=3.0.0 in /usr/local/lib/python3.6/dist-packages (from graspologic) (3.2.2)\n",
            "Requirement already satisfied: networkx>=2.1 in /usr/local/lib/python3.6/dist-packages (from graspologic) (2.5)\n",
            "Requirement already satisfied: numpy>=1.8.1 in /usr/local/lib/python3.6/dist-packages (from graspologic) (1.19.4)\n",
            "Collecting POT>=0.7.0\n",
            "\u001b[?25l  Downloading https://files.pythonhosted.org/packages/f8/22/67658e4b227fc52ce1c9bca522dfb3f0cc29a3536d1c7499feb3b0042a41/POT-0.7.0-cp36-cp36m-manylinux2010_x86_64.whl (428kB)\n",
            "\u001b[K     |████████████████████████████████| 430kB 57.5MB/s \n",
            "\u001b[?25hRequirement already satisfied: seaborn>=0.11.0 in /usr/local/lib/python3.6/dist-packages (from graspologic) (0.11.0)\n",
            "Requirement already satisfied: scikit-learn>=0.19.1 in /usr/local/lib/python3.6/dist-packages (from graspologic) (0.22.2.post1)\n",
            "Requirement already satisfied: scipy>=1.4.0 in /usr/local/lib/python3.6/dist-packages (from graspologic) (1.4.1)\n",
            "Requirement already satisfied: umap-learn>=0.4.6 in /usr/local/lib/python3.6/dist-packages (from graspologic) (0.4.6)\n",
            "Requirement already satisfied: six>=1.9.0 in /usr/local/lib/python3.6/dist-packages (from anytree>=2.8.0->graspologic) (1.15.0)\n",
            "Requirement already satisfied: smart-open>=1.8.1 in /usr/local/lib/python3.6/dist-packages (from gensim<=3.9.0,>=3.8.0->graspologic) (4.0.1)\n",
            "Requirement already satisfied: numba>=0.46 in /usr/local/lib/python3.6/dist-packages (from hyppo>=0.1.3->graspologic) (0.48.0)\n",
            "Requirement already satisfied: cycler>=0.10 in /usr/local/lib/python3.6/dist-packages (from matplotlib<=3.3.0,>=3.0.0->graspologic) (0.10.0)\n",
            "Requirement already satisfied: python-dateutil>=2.1 in /usr/local/lib/python3.6/dist-packages (from matplotlib<=3.3.0,>=3.0.0->graspologic) (2.8.1)\n",
            "Requirement already satisfied: kiwisolver>=1.0.1 in /usr/local/lib/python3.6/dist-packages (from matplotlib<=3.3.0,>=3.0.0->graspologic) (1.3.1)\n",
            "Requirement already satisfied: pyparsing!=2.0.4,!=2.1.2,!=2.1.6,>=2.0.1 in /usr/local/lib/python3.6/dist-packages (from matplotlib<=3.3.0,>=3.0.0->graspologic) (2.4.7)\n",
            "Requirement already satisfied: decorator>=4.3.0 in /usr/local/lib/python3.6/dist-packages (from networkx>=2.1->graspologic) (4.4.2)\n",
            "Requirement already satisfied: cython>=0.23 in /usr/local/lib/python3.6/dist-packages (from POT>=0.7.0->graspologic) (0.29.21)\n",
            "Requirement already satisfied: pandas>=0.23 in /usr/local/lib/python3.6/dist-packages (from seaborn>=0.11.0->graspologic) (1.1.5)\n",
            "Requirement already satisfied: llvmlite<0.32.0,>=0.31.0dev0 in /usr/local/lib/python3.6/dist-packages (from numba>=0.46->hyppo>=0.1.3->graspologic) (0.31.0)\n",
            "Requirement already satisfied: setuptools in /usr/local/lib/python3.6/dist-packages (from numba>=0.46->hyppo>=0.1.3->graspologic) (51.0.0)\n",
            "Requirement already satisfied: pytz>=2017.2 in /usr/local/lib/python3.6/dist-packages (from pandas>=0.23->seaborn>=0.11.0->graspologic) (2018.9)\n",
            "Building wheels for collected packages: graspologic, hyppo\n",
            "  Building wheel for graspologic (setup.py) ... \u001b[?25l\u001b[?25hdone\n",
            "  Created wheel for graspologic: filename=graspologic-0.1.0.dev465176579-cp36-none-any.whl size=5137232 sha256=9973bab71870bb9dc6bf1fa061a523a2fe136132d8da05d11804f50cbfb9ff4a\n",
            "  Stored in directory: /root/.cache/pip/wheels/7a/0e/59/47b7c672b6d04471b3e70442cce9f18c240076cd60785951e4\n",
            "  Building wheel for hyppo (setup.py) ... \u001b[?25l\u001b[?25hdone\n",
            "  Created wheel for hyppo: filename=hyppo-0.1.3-cp36-none-any.whl size=64216 sha256=7ca5366d24532873ef55f651940016f711f6d43dde658bc0b4cdda13aad1da6a\n",
            "  Stored in directory: /root/.cache/pip/wheels/c0/ad/6b/e2bf22a0f13f40c1bc10ba65e8b5cf1b3dc4cf9aeb80331650\n",
            "Successfully built graspologic hyppo\n",
            "Installing collected packages: anytree, gensim, graspologic-native, hyppo, POT, graspologic\n",
            "  Found existing installation: gensim 3.6.0\n",
            "    Uninstalling gensim-3.6.0:\n",
            "      Successfully uninstalled gensim-3.6.0\n",
            "Successfully installed POT-0.7.0 anytree-2.8.0 gensim-3.8.3 graspologic-0.1.0.dev465176579 graspologic-native-0.1.0 hyppo-0.1.3\n",
            "Requirement already satisfied: networkx in /usr/local/lib/python3.6/dist-packages (2.5)\n",
            "Requirement already satisfied: decorator>=4.3.0 in /usr/local/lib/python3.6/dist-packages (from networkx) (4.4.2)\n",
            "Requirement already satisfied: matplotlib in /usr/local/lib/python3.6/dist-packages (3.2.2)\n",
            "Requirement already satisfied: numpy>=1.11 in /usr/local/lib/python3.6/dist-packages (from matplotlib) (1.19.4)\n",
            "Requirement already satisfied: cycler>=0.10 in /usr/local/lib/python3.6/dist-packages (from matplotlib) (0.10.0)\n",
            "Requirement already satisfied: pyparsing!=2.0.4,!=2.1.2,!=2.1.6,>=2.0.1 in /usr/local/lib/python3.6/dist-packages (from matplotlib) (2.4.7)\n",
            "Requirement already satisfied: python-dateutil>=2.1 in /usr/local/lib/python3.6/dist-packages (from matplotlib) (2.8.1)\n",
            "Requirement already satisfied: kiwisolver>=1.0.1 in /usr/local/lib/python3.6/dist-packages (from matplotlib) (1.3.1)\n",
            "Requirement already satisfied: six in /usr/local/lib/python3.6/dist-packages (from cycler>=0.10->matplotlib) (1.15.0)\n",
            "Looking in links: https://pytorch-geometric.com/whl/torch-1.7.0+cu101.html\n",
            "Collecting torch-sparse\n",
            "\u001b[?25l  Downloading https://pytorch-geometric.com/whl/torch-1.7.0%2Bcu101/torch_sparse-0.6.8-cp36-cp36m-linux_x86_64.whl (24.3MB)\n",
            "\u001b[K     |████████████████████████████████| 24.3MB 1.3MB/s \n",
            "\u001b[?25hRequirement already satisfied: scipy in /usr/local/lib/python3.6/dist-packages (from torch-sparse) (1.4.1)\n",
            "Requirement already satisfied: numpy>=1.13.3 in /usr/local/lib/python3.6/dist-packages (from scipy->torch-sparse) (1.19.4)\n",
            "Installing collected packages: torch-sparse\n",
            "Successfully installed torch-sparse-0.6.8\n",
            "Looking in links: https://pytorch-geometric.com/whl/torch-1.7.0.html\n",
            "Collecting torch-scatter==latest+cu101\n",
            "\u001b[?25l  Downloading https://pytorch-geometric.com/whl/torch-1.7.0/torch_scatter-latest%2Bcu101-cp36-cp36m-linux_x86_64.whl (11.9MB)\n",
            "\u001b[K     |████████████████████████████████| 11.9MB 17.9MB/s \n",
            "\u001b[?25hCollecting torch-sparse==latest+cu101\n",
            "\u001b[?25l  Downloading https://pytorch-geometric.com/whl/torch-1.7.0/torch_sparse-latest%2Bcu101-cp36-cp36m-linux_x86_64.whl (24.3MB)\n",
            "\u001b[K     |████████████████████████████████| 24.3MB 1.3MB/s \n",
            "\u001b[?25hRequirement already satisfied: scipy in /usr/local/lib/python3.6/dist-packages (from torch-sparse==latest+cu101) (1.4.1)\n",
            "Requirement already satisfied: numpy>=1.13.3 in /usr/local/lib/python3.6/dist-packages (from scipy->torch-sparse==latest+cu101) (1.19.4)\n",
            "Installing collected packages: torch-scatter, torch-sparse\n",
            "  Found existing installation: torch-sparse 0.6.8\n",
            "    Uninstalling torch-sparse-0.6.8:\n",
            "      Successfully uninstalled torch-sparse-0.6.8\n",
            "Successfully installed torch-scatter-2.0.5 torch-sparse-0.6.8\n",
            "Collecting torch_geometric\n",
            "\u001b[?25l  Downloading https://files.pythonhosted.org/packages/59/5c/3e95b76321fb14f24cc2ace392075717f645c4632e796ee0db1bc7d17231/torch_geometric-1.6.3.tar.gz (186kB)\n",
            "\u001b[K     |████████████████████████████████| 194kB 8.9MB/s \n",
            "\u001b[?25hRequirement already satisfied: torch in /usr/local/lib/python3.6/dist-packages (from torch_geometric) (1.7.0+cu101)\n",
            "Requirement already satisfied: numpy in /usr/local/lib/python3.6/dist-packages (from torch_geometric) (1.19.4)\n",
            "Requirement already satisfied: tqdm in /usr/local/lib/python3.6/dist-packages (from torch_geometric) (4.41.1)\n",
            "Requirement already satisfied: scipy in /usr/local/lib/python3.6/dist-packages (from torch_geometric) (1.4.1)\n",
            "Requirement already satisfied: networkx in /usr/local/lib/python3.6/dist-packages (from torch_geometric) (2.5)\n",
            "Requirement already satisfied: python-louvain in /usr/local/lib/python3.6/dist-packages (from torch_geometric) (0.14)\n",
            "Requirement already satisfied: scikit-learn in /usr/local/lib/python3.6/dist-packages (from torch_geometric) (0.22.2.post1)\n",
            "Requirement already satisfied: numba in /usr/local/lib/python3.6/dist-packages (from torch_geometric) (0.48.0)\n",
            "Requirement already satisfied: requests in /usr/local/lib/python3.6/dist-packages (from torch_geometric) (2.23.0)\n",
            "Requirement already satisfied: pandas in /usr/local/lib/python3.6/dist-packages (from torch_geometric) (1.1.5)\n",
            "Collecting rdflib\n",
            "\u001b[?25l  Downloading https://files.pythonhosted.org/packages/d0/6b/6454aa1db753c0f8bc265a5bd5c10b5721a4bb24160fb4faf758cf6be8a1/rdflib-5.0.0-py3-none-any.whl (231kB)\n",
            "\u001b[K     |████████████████████████████████| 235kB 12.0MB/s \n",
            "\u001b[?25hRequirement already satisfied: h5py in /usr/local/lib/python3.6/dist-packages (from torch_geometric) (2.10.0)\n",
            "Requirement already satisfied: googledrivedownloader in /usr/local/lib/python3.6/dist-packages (from torch_geometric) (0.4)\n",
            "Collecting ase\n",
            "\u001b[?25l  Downloading https://files.pythonhosted.org/packages/51/78/edadb45c7f26f8fbb99da81feadb561c26bb0393b6c5d1ac200ecdc12d61/ase-3.20.1-py3-none-any.whl (2.2MB)\n",
            "\u001b[K     |████████████████████████████████| 2.2MB 18.8MB/s \n",
            "\u001b[?25hRequirement already satisfied: jinja2 in /usr/local/lib/python3.6/dist-packages (from torch_geometric) (2.11.2)\n",
            "Requirement already satisfied: typing-extensions in /usr/local/lib/python3.6/dist-packages (from torch->torch_geometric) (3.7.4.3)\n",
            "Requirement already satisfied: future in /usr/local/lib/python3.6/dist-packages (from torch->torch_geometric) (0.16.0)\n",
            "Requirement already satisfied: dataclasses in /usr/local/lib/python3.6/dist-packages (from torch->torch_geometric) (0.8)\n",
            "Requirement already satisfied: decorator>=4.3.0 in /usr/local/lib/python3.6/dist-packages (from networkx->torch_geometric) (4.4.2)\n",
            "Requirement already satisfied: joblib>=0.11 in /usr/local/lib/python3.6/dist-packages (from scikit-learn->torch_geometric) (1.0.0)\n",
            "Requirement already satisfied: setuptools in /usr/local/lib/python3.6/dist-packages (from numba->torch_geometric) (51.0.0)\n",
            "Requirement already satisfied: llvmlite<0.32.0,>=0.31.0dev0 in /usr/local/lib/python3.6/dist-packages (from numba->torch_geometric) (0.31.0)\n",
            "Requirement already satisfied: chardet<4,>=3.0.2 in /usr/local/lib/python3.6/dist-packages (from requests->torch_geometric) (3.0.4)\n",
            "Requirement already satisfied: certifi>=2017.4.17 in /usr/local/lib/python3.6/dist-packages (from requests->torch_geometric) (2020.12.5)\n",
            "Requirement already satisfied: idna<3,>=2.5 in /usr/local/lib/python3.6/dist-packages (from requests->torch_geometric) (2.10)\n",
            "Requirement already satisfied: urllib3!=1.25.0,!=1.25.1,<1.26,>=1.21.1 in /usr/local/lib/python3.6/dist-packages (from requests->torch_geometric) (1.24.3)\n",
            "Requirement already satisfied: pytz>=2017.2 in /usr/local/lib/python3.6/dist-packages (from pandas->torch_geometric) (2018.9)\n",
            "Requirement already satisfied: python-dateutil>=2.7.3 in /usr/local/lib/python3.6/dist-packages (from pandas->torch_geometric) (2.8.1)\n",
            "Requirement already satisfied: pyparsing in /usr/local/lib/python3.6/dist-packages (from rdflib->torch_geometric) (2.4.7)\n",
            "Collecting isodate\n",
            "\u001b[?25l  Downloading https://files.pythonhosted.org/packages/9b/9f/b36f7774ff5ea8e428fdcfc4bb332c39ee5b9362ddd3d40d9516a55221b2/isodate-0.6.0-py2.py3-none-any.whl (45kB)\n",
            "\u001b[K     |████████████████████████████████| 51kB 5.9MB/s \n",
            "\u001b[?25hRequirement already satisfied: six in /usr/local/lib/python3.6/dist-packages (from rdflib->torch_geometric) (1.15.0)\n",
            "Requirement already satisfied: matplotlib>=2.0.0 in /usr/local/lib/python3.6/dist-packages (from ase->torch_geometric) (3.2.2)\n",
            "Requirement already satisfied: MarkupSafe>=0.23 in /usr/local/lib/python3.6/dist-packages (from jinja2->torch_geometric) (1.1.1)\n",
            "Requirement already satisfied: cycler>=0.10 in /usr/local/lib/python3.6/dist-packages (from matplotlib>=2.0.0->ase->torch_geometric) (0.10.0)\n",
            "Requirement already satisfied: kiwisolver>=1.0.1 in /usr/local/lib/python3.6/dist-packages (from matplotlib>=2.0.0->ase->torch_geometric) (1.3.1)\n",
            "Building wheels for collected packages: torch-geometric\n",
            "  Building wheel for torch-geometric (setup.py) ... \u001b[?25l\u001b[?25hdone\n",
            "  Created wheel for torch-geometric: filename=torch_geometric-1.6.3-cp36-none-any.whl size=322720 sha256=70878bbffbb9ce3e544271f99e50814151a49a29485c0d4f52eb3309969507ed\n",
            "  Stored in directory: /root/.cache/pip/wheels/6d/47/1e/0af8ce3e21783c3e584c22502011a3367c091694eebc50a971\n",
            "Successfully built torch-geometric\n",
            "Installing collected packages: isodate, rdflib, ase, torch-geometric\n",
            "Successfully installed ase-3.20.1 isodate-0.6.0 rdflib-5.0.0 torch-geometric-1.6.3\n",
            "Collecting captum\n",
            "\u001b[?25l  Downloading https://files.pythonhosted.org/packages/bf/27/e6d97c600cabc38b860ead2f6be243d819ff3d259bc3195b7d2ed943ba5d/captum-0.3.0-py3-none-any.whl (5.7MB)\n",
            "\u001b[K     |████████████████████████████████| 5.7MB 12.0MB/s \n",
            "\u001b[?25hRequirement already satisfied: torch>=1.2 in /usr/local/lib/python3.6/dist-packages (from captum) (1.7.0+cu101)\n",
            "Requirement already satisfied: matplotlib in /usr/local/lib/python3.6/dist-packages (from captum) (3.2.2)\n",
            "Requirement already satisfied: numpy in /usr/local/lib/python3.6/dist-packages (from captum) (1.19.4)\n",
            "Requirement already satisfied: typing-extensions in /usr/local/lib/python3.6/dist-packages (from torch>=1.2->captum) (3.7.4.3)\n",
            "Requirement already satisfied: future in /usr/local/lib/python3.6/dist-packages (from torch>=1.2->captum) (0.16.0)\n",
            "Requirement already satisfied: dataclasses in /usr/local/lib/python3.6/dist-packages (from torch>=1.2->captum) (0.8)\n",
            "Requirement already satisfied: kiwisolver>=1.0.1 in /usr/local/lib/python3.6/dist-packages (from matplotlib->captum) (1.3.1)\n",
            "Requirement already satisfied: pyparsing!=2.0.4,!=2.1.2,!=2.1.6,>=2.0.1 in /usr/local/lib/python3.6/dist-packages (from matplotlib->captum) (2.4.7)\n",
            "Requirement already satisfied: cycler>=0.10 in /usr/local/lib/python3.6/dist-packages (from matplotlib->captum) (0.10.0)\n",
            "Requirement already satisfied: python-dateutil>=2.1 in /usr/local/lib/python3.6/dist-packages (from matplotlib->captum) (2.8.1)\n",
            "Requirement already satisfied: six in /usr/local/lib/python3.6/dist-packages (from cycler>=0.10->matplotlib->captum) (1.15.0)\n",
            "Installing collected packages: captum\n",
            "Successfully installed captum-0.3.0\n"
          ],
          "name": "stdout"
        }
      ]
    },
    {
      "cell_type": "code",
      "metadata": {
        "colab": {
          "base_uri": "https://localhost:8080/"
        },
        "id": "GXxOMvsgEgPm",
        "outputId": "3176ef5c-5163-497c-8dee-6be93060fc81"
      },
      "source": [
        "!wget https://gitlab.com/cvejic-group/integrative-scrna-scatac-human-foetal/-/raw/master/Data/ScanpyObjets/MergedAllSamples_annotated.h5ad\n",
        "!wget ftp://ftp.ebi.ac.uk/pub/databases/gencode/Gencode_human/release_36/gencode.v36.chr_patch_hapl_scaff.annotation.gtf.gz\n",
        "!gunzip gencode.v36.chr_patch_hapl_scaff.annotation.gtf.gz"
      ],
      "execution_count": null,
      "outputs": [
        {
          "output_type": "stream",
          "text": [
            "--2021-01-07 08:35:42--  https://gitlab.com/cvejic-group/integrative-scrna-scatac-human-foetal/-/raw/master/Data/ScanpyObjets/MergedAllSamples_annotated.h5ad\n",
            "Resolving gitlab.com (gitlab.com)... 172.65.251.78, 2606:4700:90:0:f22e:fbec:5bed:a9b9\n",
            "Connecting to gitlab.com (gitlab.com)|172.65.251.78|:443... connected.\n",
            "HTTP request sent, awaiting response... 200 OK\n",
            "Length: 419106712 (400M) [application/octet-stream]\n",
            "Saving to: ‘MergedAllSamples_annotated.h5ad.1’\n",
            "\n",
            "MergedAllSamples_an 100%[===================>] 399.69M   166MB/s    in 2.4s    \n",
            "\n",
            "2021-01-07 08:35:48 (166 MB/s) - ‘MergedAllSamples_annotated.h5ad.1’ saved [419106712/419106712]\n",
            "\n",
            "--2021-01-07 08:35:48--  ftp://ftp.ebi.ac.uk/pub/databases/gencode/Gencode_human/release_36/gencode.v36.chr_patch_hapl_scaff.annotation.gtf.gz\n",
            "           => ‘gencode.v36.chr_patch_hapl_scaff.annotation.gtf.gz’\n",
            "Resolving ftp.ebi.ac.uk (ftp.ebi.ac.uk)... 193.62.197.74\n",
            "Connecting to ftp.ebi.ac.uk (ftp.ebi.ac.uk)|193.62.197.74|:21... connected.\n",
            "Logging in as anonymous ... Logged in!\n",
            "==> SYST ... done.    ==> PWD ... done.\n",
            "==> TYPE I ... done.  ==> CWD (1) /pub/databases/gencode/Gencode_human/release_36 ... done.\n",
            "==> SIZE gencode.v36.chr_patch_hapl_scaff.annotation.gtf.gz ... 47984990\n",
            "==> PASV ... done.    ==> RETR gencode.v36.chr_patch_hapl_scaff.annotation.gtf.gz ... done.\n",
            "Length: 47984990 (46M) (unauthoritative)\n",
            "\n",
            "gencode.v36.chr_pat 100%[===================>]  45.76M   143MB/s    in 0.3s    \n",
            "\n",
            "2021-01-07 08:35:48 (143 MB/s) - ‘gencode.v36.chr_patch_hapl_scaff.annotation.gtf.gz’ saved [47984990]\n",
            "\n",
            "gzip: gencode.v36.chr_patch_hapl_scaff.annotation.gtf already exists; do you wish to overwrite (y or n)? "
          ],
          "name": "stdout"
        }
      ]
    },
    {
      "cell_type": "code",
      "metadata": {
        "colab": {
          "base_uri": "https://localhost:8080/"
        },
        "id": "cMd1HxW7EZbF",
        "outputId": "2bc26585-d831-4e95-9337-1b67f0fff523"
      },
      "source": [
        "!cp -r drive/MyDrive/epiClassify .\n",
        "%cd epiClassify"
      ],
      "execution_count": 1,
      "outputs": [
        {
          "output_type": "stream",
          "text": [
            "/content/epiClassify\n"
          ],
          "name": "stdout"
        }
      ]
    },
    {
      "cell_type": "code",
      "metadata": {
        "id": "NbnxiTyxEatd"
      },
      "source": [
        "from GNNProject.utils import *\n",
        "from GNNProject.dataset import *\n",
        "from GNNProject.model import *\n",
        "from GNNProject.classifier import *\n",
        "from captum import *\n",
        "from captum.attr import IntegratedGradients\n",
        "import scanpy\n",
        "import pandas as pd\n",
        "import igraph as ig"
      ],
      "execution_count": 2,
      "outputs": []
    },
    {
      "cell_type": "code",
      "metadata": {
        "colab": {
          "base_uri": "https://localhost:8080/"
        },
        "id": "jMBXcFFIEdIF",
        "outputId": "8177413f-5956-446e-fc39-03d093aad341"
      },
      "source": [
        "import torch\n",
        "if torch.cuda.is_available():  \n",
        "  dev = \"cuda:0\" \n",
        "else:  \n",
        "  dev = \"cpu\"  \n",
        "device = torch.device(dev)\n",
        "print(device)"
      ],
      "execution_count": 3,
      "outputs": [
        {
          "output_type": "stream",
          "text": [
            "cpu\n"
          ],
          "name": "stdout"
        }
      ]
    },
    {
      "cell_type": "code",
      "metadata": {
        "colab": {
          "base_uri": "https://localhost:8080/"
        },
        "id": "UrY0S3u2EwxV",
        "outputId": "5690ca6b-16f0-4b7b-bc33-649af67cb7d1"
      },
      "source": [
        "gencode = pd.read_table(\"gencode.v36.chr_patch_hapl_scaff.annotation.gtf\", comment=\"#\", sep = \"\\t\"\\\n",
        "  , names = ['seqname', 'source', 'feature', 'start' , 'end', 'score', 'strand', 'frame', 'attribute'])\n",
        "adata = scanpy.read('MergedAllSamples_annotated.h5ad')\n",
        "adata.obs['annotation'] = adata.obs['annotation']"
      ],
      "execution_count": 38,
      "outputs": [
        {
          "output_type": "stream",
          "text": [
            "/usr/local/lib/python3.6/dist-packages/anndata/compat/__init__.py:182: FutureWarning: Moving element from .uns['neighbors']['distances'] to .obsp['distances'].\n",
            "\n",
            "This is where adjacency matrices should go now.\n",
            "  FutureWarning,\n",
            "/usr/local/lib/python3.6/dist-packages/anndata/compat/__init__.py:182: FutureWarning: Moving element from .uns['neighbors']['connectivities'] to .obsp['connectivities'].\n",
            "\n",
            "This is where adjacency matrices should go now.\n",
            "  FutureWarning,\n"
          ],
          "name": "stderr"
        }
      ]
    },
    {
      "cell_type": "code",
      "metadata": {
        "id": "n4IgiYDnB6_Q"
      },
      "source": [
        "fine_types  = adata.obs['manual_annotation'].tolist()\n",
        "broad_types = ['Monocyte', 'Comm', 'Dend', 'Endothelial', 'Erythroid',\\\n",
        "               'Granulocyte', 'MPP', 'Mast', 'B cell', 'Prog']\n",
        "\n",
        "for bt in broad_types:\n",
        "   idx = [i for i, item in enumerate(fine_types) if re.search('.*{}.*'.format(bt), item)]\n",
        "   for i in idx:\n",
        "    fine_types[i] = bt\n",
        "   \n",
        "adata.obs['manual_annotation'] = fine_types\n",
        "adata = adata[adata.obs['manual_annotation'] != 'Unspecified']\n",
        "\n",
        "gencode = gencode.loc[gencode.seqname == 'chr12']"
      ],
      "execution_count": 40,
      "outputs": []
    },
    {
      "cell_type": "code",
      "metadata": {
        "id": "Q43c_Yh8FedB"
      },
      "source": [
        "# indices = [gencode[id in gencode['attribute']].index.tolist()[0] for id in ]\n",
        "import re\n",
        "\n",
        "gencode = gencode.sort_values(by=['seqname', 'start'])\n",
        "\n",
        "ids = [re.search('gene_id \\\"(.+?)\\\"', x).group(1) for x in gencode['attribute']]\n",
        "ids = [re.sub('\\\\..*', '', id) for id in ids]\n",
        "ids = list(set(ids))\n",
        "inter = list(set(ids) & set(adata.var['Ensembl']))  \n",
        "adata = adata[:, adata.var['Ensembl'].isin(inter)]\n",
        "ind = [ids.index(id) for id in adata.var['Ensembl']]\n",
        "ind = [sorted(ind).index(x) for x in ind]\n",
        "del gencode\n",
        "del ids\n",
        "del inter"
      ],
      "execution_count": 41,
      "outputs": []
    },
    {
      "cell_type": "code",
      "metadata": {
        "colab": {
          "base_uri": "https://localhost:8080/"
        },
        "id": "G0FgsDyRIG7w",
        "outputId": "18c45a23-5baa-4b14-cfc4-bb0804e65236"
      },
      "source": [
        "adata = adata[:, ind]\n",
        "# adata = adata[:, 1:5000]\n",
        "n_features = adata.shape[1]\n",
        "print(n_features)\n",
        "n_classes  = len(set(adata.obs['manual_annotation']))\n",
        "print(n_classes)"
      ],
      "execution_count": 42,
      "outputs": [
        {
          "output_type": "stream",
          "text": [
            "1576\n",
            "11\n"
          ],
          "name": "stdout"
        }
      ]
    },
    {
      "cell_type": "code",
      "metadata": {
        "id": "cX-TzXe3YVEg"
      },
      "source": [
        "import igraph as ig\n",
        "g = ig.Graph()\n",
        "edges = [(i, i+1) for i in range(n_features-1)]\n",
        "g.add_vertices(n_features)\n",
        "g.add_edges(edges)\n",
        "adj = np.array(g.get_adjacency().data)\n",
        "# adj_test  = np.array(g.get_adjacency().data)"
      ],
      "execution_count": 43,
      "outputs": []
    },
    {
      "cell_type": "code",
      "metadata": {
        "colab": {
          "base_uri": "https://localhost:8080/",
          "height": 278
        },
        "id": "bfQvYg8LZ24T",
        "outputId": "63d82a95-9b37-4a25-ccea-f59f255fbe77"
      },
      "source": [
        "dataset = Dataset(tag='real_scanpy', random_seed=1996)\n",
        "dataset.X_train = adata.layers['counts']\n",
        "y = pd.get_dummies(adata.obs['manual_annotation'])\n",
        "dataset.y_train = y.values.argmax(1)\n",
        "dataset.A_train = adj\n",
        "# dataloaders with true graphs\n",
        "train_true = dataset._dataloader('train', use_true_graph=True,batch_size=16)\n",
        "# test_true  = dataset._dataloader('test',use_true_graph=True,batch_size=16)\n",
        "# plot dataframe\n",
        "plot_lowDim(dataset.X_train, dataset.y_train, title='UMAP of Train Dataset')\n",
        "plt.show()"
      ],
      "execution_count": 44,
      "outputs": [
        {
          "output_type": "display_data",
          "data": {
            "image/png": "[encoded data removed]",
            "text/plain": [
              "<Figure size 432x288 with 1 Axes>"
            ]
          },
          "metadata": {
            "tags": []
          }
        }
      ]
    },
    {
      "cell_type": "code",
      "metadata": {
        "id": "AA8ynXZmmuxo"
      },
      "source": [
        "# NN params\n",
        "epochs   = 30\n",
        "lr       = 0.001\n",
        "momentum = .9"
      ],
      "execution_count": 47,
      "outputs": []
    },
    {
      "cell_type": "code",
      "metadata": {
        "colab": {
          "base_uri": "https://localhost:8080/"
        },
        "id": "j10k_v_lmj9b",
        "outputId": "6d8c8eb4-4d00-41c4-8d1f-f88fa111de86"
      },
      "source": [
        "clf_ConvNet = Classifier(\n",
        "        n_features=n_features,\n",
        "        n_classes=n_classes,\n",
        "        n_hidden_GNN=[10],\n",
        "        n_hidden_FC=[],\n",
        "        K = 3,\n",
        "        pool_K=3,\n",
        "        dropout_FC=0.2,\n",
        "        dropout_GNN=0.3,\n",
        "        classifier='Conv1d', \n",
        "        lr=lr,\n",
        "        momentum=momentum,\n",
        "        log_dir=\"runs/ConvNet_true\",\n",
        "        device = device) \n",
        "# fit the classifier on train data\n",
        "clf_ConvNet.fit(train_true, epochs = epochs, test_dataloader=None,verbose=True)\n",
        "# evaluate the trained classifier on train data\n",
        "_ = clf_ConvNet.eval(train_true, verbose=True)"
      ],
      "execution_count": 49,
      "outputs": [
        {
          "output_type": "stream",
          "text": [
            "[1] loss: 2.389\n"
          ],
          "name": "stdout"
        },
        {
          "output_type": "stream",
          "text": [
            "/usr/local/lib/python3.6/dist-packages/sklearn/metrics/_classification.py:1272: UndefinedMetricWarning: Precision is ill-defined and being set to 0.0 in labels with no predicted samples. Use `zero_division` parameter to control this behavior.\n",
            "  _warn_prf(average, modifier, msg_start, len(result))\n"
          ],
          "name": "stderr"
        },
        {
          "output_type": "stream",
          "text": [
            "[4] loss: 0.799\n",
            "[7] loss: 0.633\n",
            "[10] loss: 0.591\n",
            "[13] loss: 0.535\n",
            "[16] loss: 0.509\n",
            "[19] loss: 0.481\n",
            "[22] loss: 0.445\n",
            "[25] loss: 0.438\n",
            "[28] loss: 0.435\n",
            "Accuracy: 0.905\n",
            "Confusion Matrix:\n",
            " [[ 733    0    0    0   17    1    5    0    0    0    0]\n",
            " [   0  429    0    0    2    2   14    0    0    0    0]\n",
            " [   0    0  172    0    5    0    0    0    0    0    0]\n",
            " [  21    0    3   69  147    0    7    0    0    4    0]\n",
            " [   1    0    0    0  253    0    0    0    0    0    0]\n",
            " [   1    0    0    0   10  416   15    0    0    0    0]\n",
            " [   4    3    0    0    5   10 1149    0    0    0    0]\n",
            " [   0    5    0    0   11    6    1  177    0    0    0]\n",
            " [   0    3    0    0    5    0    1    0   87    0    0]\n",
            " [   0    0    4    0   35    5    1    0    0  267    0]\n",
            " [   1    8    2    0    9    6   26    0    0    0  104]]\n",
            "Precision: 0.934\n",
            "Recall: 0.905\n",
            "f1_score: 0.900\n"
          ],
          "name": "stdout"
        }
      ]
    },
    {
      "cell_type": "code",
      "metadata": {
        "id": "z-F0YPDSoB29"
      },
      "source": [
        "import numpy as np\n",
        "clf_ConvNet.net.eval()\n",
        "importances = np.zeros((n_features, n_classes))\n",
        "for batch in train_true:\n",
        "  e = batch.edge_index.to(device)\n",
        "  input = batch.x.to(device)\n",
        "  target = batch.y.to(device)\n",
        "  ig = IntegratedGradients(clf_ConvNet.net)\n",
        "  attributions = ig.attribute(input, target=target, additional_forward_args=(e,))\n",
        "  attributions = attributions.to('cpu').detach().numpy()\n",
        "  importances[:, target.to('cpu').numpy()] += attributions\n",
        "idx = (-np.absolute(importances)).argsort(axis=0)\n",
        "# idx = (-importances).argsort(axis=0)"
      ],
      "execution_count": 56,
      "outputs": []
    },
    {
      "cell_type": "code",
      "metadata": {
        "id": "8WFkcYgoul1V"
      },
      "source": [
        "markers = dict()\n",
        "\n",
        "for cl in range(n_classes):\n",
        "  classes = y.columns\n",
        "  markers[classes[cl]] = adata.var_names[idx[0:15, cl]].tolist()\n",
        "\n",
        "markers = pd.DataFrame.from_dict(markers)"
      ],
      "execution_count": 57,
      "outputs": []
    },
    {
      "cell_type": "code",
      "metadata": {
        "id": "FJlZYPqzxeet"
      },
      "source": [
        "markers.to_csv(r'test_resuslts_v2.txt', sep='\\t')"
      ],
      "execution_count": 60,
      "outputs": []
    },
    {
      "cell_type": "code",
      "metadata": {
        "colab": {
          "base_uri": "https://localhost:8080/",
          "height": 514
        },
        "id": "KZZavH1c1_HY",
        "outputId": "be5c6a24-6ad1-4b1f-a212-3e33b7c6b7c8"
      },
      "source": [
        "markers"
      ],
      "execution_count": 58,
      "outputs": [
        {
          "output_type": "execute_result",
          "data": {
            "text/html": [
              "<div>\n",
              "<style scoped>\n",
              "    .dataframe tbody tr th:only-of-type {\n",
              "        vertical-align: middle;\n",
              "    }\n",
              "\n",
              "    .dataframe tbody tr th {\n",
              "        vertical-align: top;\n",
              "    }\n",
              "\n",
              "    .dataframe thead th {\n",
              "        text-align: right;\n",
              "    }\n",
              "</style>\n",
              "<table border=\"1\" class=\"dataframe\">\n",
              "  <thead>\n",
              "    <tr style=\"text-align: right;\">\n",
              "      <th></th>\n",
              "      <th>B cell</th>\n",
              "      <th>Comm</th>\n",
              "      <th>Dend</th>\n",
              "      <th>Endothelial</th>\n",
              "      <th>Erythroid</th>\n",
              "      <th>Granulocyte</th>\n",
              "      <th>MPP</th>\n",
              "      <th>Mast</th>\n",
              "      <th>Megakaryocytes</th>\n",
              "      <th>Monocyte</th>\n",
              "      <th>Prog</th>\n",
              "    </tr>\n",
              "  </thead>\n",
              "  <tbody>\n",
              "    <tr>\n",
              "      <th>0</th>\n",
              "      <td>DTX1</td>\n",
              "      <td>TESPA1</td>\n",
              "      <td>ZDHHC17</td>\n",
              "      <td>MYL6</td>\n",
              "      <td>SLC25A3</td>\n",
              "      <td>LYZ</td>\n",
              "      <td>RPL14P1</td>\n",
              "      <td>TESPA1</td>\n",
              "      <td>CLEC1B</td>\n",
              "      <td>LYZ</td>\n",
              "      <td>HMGA2</td>\n",
              "    </tr>\n",
              "    <tr>\n",
              "      <th>1</th>\n",
              "      <td>MLXIP (ENSG00000175727)</td>\n",
              "      <td>PLXNC1</td>\n",
              "      <td>SLC15A4</td>\n",
              "      <td>RPL41</td>\n",
              "      <td>RPL41</td>\n",
              "      <td>MGST1</td>\n",
              "      <td>HMGA2</td>\n",
              "      <td>CD63</td>\n",
              "      <td>CMAS</td>\n",
              "      <td>PLBD1</td>\n",
              "      <td>MLF2</td>\n",
              "    </tr>\n",
              "    <tr>\n",
              "      <th>2</th>\n",
              "      <td>CD9</td>\n",
              "      <td>SCARB1</td>\n",
              "      <td>PCED1B-AS1</td>\n",
              "      <td>RPS26</td>\n",
              "      <td>DYNLL1</td>\n",
              "      <td>TUBA1A</td>\n",
              "      <td>TAOK3</td>\n",
              "      <td>ATP6V0A2</td>\n",
              "      <td>PRICKLE1</td>\n",
              "      <td>LRRK2</td>\n",
              "      <td>BCAT1</td>\n",
              "    </tr>\n",
              "    <tr>\n",
              "      <th>3</th>\n",
              "      <td>SLC38A1</td>\n",
              "      <td>ATP6V0A2</td>\n",
              "      <td>SCAF11</td>\n",
              "      <td>RPL6</td>\n",
              "      <td>ARHGDIB</td>\n",
              "      <td>SNRPF</td>\n",
              "      <td>RIMKLB</td>\n",
              "      <td>RNF10</td>\n",
              "      <td>SLC2A3</td>\n",
              "      <td>SLC2A3</td>\n",
              "      <td>NEMP1</td>\n",
              "    </tr>\n",
              "    <tr>\n",
              "      <th>4</th>\n",
              "      <td>SCARB1</td>\n",
              "      <td>BCAT1</td>\n",
              "      <td>CORO1C</td>\n",
              "      <td>HSP90B1</td>\n",
              "      <td>RPL18AP3</td>\n",
              "      <td>ERP29</td>\n",
              "      <td>NFE2</td>\n",
              "      <td>SLC2A3</td>\n",
              "      <td>NINJ2</td>\n",
              "      <td>ALDH2</td>\n",
              "      <td>KNTC1</td>\n",
              "    </tr>\n",
              "    <tr>\n",
              "      <th>5</th>\n",
              "      <td>CLEC2D</td>\n",
              "      <td>PPM1H</td>\n",
              "      <td>C12orf75</td>\n",
              "      <td>ATP5F1B</td>\n",
              "      <td>MYL6</td>\n",
              "      <td>NFE2</td>\n",
              "      <td>RPS2P5</td>\n",
              "      <td>ESYT1</td>\n",
              "      <td>PPP1R12A</td>\n",
              "      <td>ZNF385A</td>\n",
              "      <td>RAP1B</td>\n",
              "    </tr>\n",
              "    <tr>\n",
              "      <th>6</th>\n",
              "      <td>SRSF9</td>\n",
              "      <td>CDK4</td>\n",
              "      <td>CLEC4C</td>\n",
              "      <td>NFE2</td>\n",
              "      <td>RAN</td>\n",
              "      <td>GIHCG (ENSG00000257698)</td>\n",
              "      <td>AC005912.1</td>\n",
              "      <td>PPM1H</td>\n",
              "      <td>CHFR</td>\n",
              "      <td>HNRNPA1</td>\n",
              "      <td>NCAPD2</td>\n",
              "    </tr>\n",
              "    <tr>\n",
              "      <th>7</th>\n",
              "      <td>RIMKLB</td>\n",
              "      <td>MGST1</td>\n",
              "      <td>SELPLG</td>\n",
              "      <td>LDHB</td>\n",
              "      <td>UBC</td>\n",
              "      <td>GNPTAB</td>\n",
              "      <td>BCAT1</td>\n",
              "      <td>RPS2P5</td>\n",
              "      <td>ATP6V0A2</td>\n",
              "      <td>ATP5F1B</td>\n",
              "      <td>PCBP2</td>\n",
              "    </tr>\n",
              "    <tr>\n",
              "      <th>8</th>\n",
              "      <td>YBX3</td>\n",
              "      <td>METAP2</td>\n",
              "      <td>MLF2</td>\n",
              "      <td>SLC25A3</td>\n",
              "      <td>WNK1</td>\n",
              "      <td>TNFRSF1A</td>\n",
              "      <td>ARHGAP9</td>\n",
              "      <td>TUBA1A</td>\n",
              "      <td>VPS29</td>\n",
              "      <td>CKAP4</td>\n",
              "      <td>DENR</td>\n",
              "    </tr>\n",
              "    <tr>\n",
              "      <th>9</th>\n",
              "      <td>BCL7A (ENSG00000110987)</td>\n",
              "      <td>CMAS</td>\n",
              "      <td>ULK1</td>\n",
              "      <td>ELK3</td>\n",
              "      <td>SLC11A2</td>\n",
              "      <td>SELPLG</td>\n",
              "      <td>RPL41P5</td>\n",
              "      <td>CHD4</td>\n",
              "      <td>MLEC</td>\n",
              "      <td>BTG1</td>\n",
              "      <td>TROAP</td>\n",
              "    </tr>\n",
              "    <tr>\n",
              "      <th>10</th>\n",
              "      <td>LRMP</td>\n",
              "      <td>MRPL42</td>\n",
              "      <td>ERP29</td>\n",
              "      <td>SLC2A3</td>\n",
              "      <td>LDHB</td>\n",
              "      <td>IRAK3</td>\n",
              "      <td>HMGA2-AS1</td>\n",
              "      <td>CCND2</td>\n",
              "      <td>BIN2</td>\n",
              "      <td>RPL41</td>\n",
              "      <td>PRIM1</td>\n",
              "    </tr>\n",
              "    <tr>\n",
              "      <th>11</th>\n",
              "      <td>WASHC4</td>\n",
              "      <td>TUBA1A</td>\n",
              "      <td>CUX2</td>\n",
              "      <td>CNOT2</td>\n",
              "      <td>NFE2</td>\n",
              "      <td>MLF2</td>\n",
              "      <td>ATP5MC2</td>\n",
              "      <td>CHST11</td>\n",
              "      <td>ADCY6</td>\n",
              "      <td>CD4</td>\n",
              "      <td>AAAS</td>\n",
              "    </tr>\n",
              "    <tr>\n",
              "      <th>12</th>\n",
              "      <td>RPL41</td>\n",
              "      <td>NFE2</td>\n",
              "      <td>EP400P1</td>\n",
              "      <td>CCND2</td>\n",
              "      <td>SLC38A2</td>\n",
              "      <td>AC024896.1</td>\n",
              "      <td>PCBP2</td>\n",
              "      <td>MLF2</td>\n",
              "      <td>DNM1L</td>\n",
              "      <td>LDHB</td>\n",
              "      <td>SMARCC2</td>\n",
              "    </tr>\n",
              "    <tr>\n",
              "      <th>13</th>\n",
              "      <td>MIR1244-3</td>\n",
              "      <td>FKBP4</td>\n",
              "      <td>BCL7A (ENSG00000110987)</td>\n",
              "      <td>CLEC2B</td>\n",
              "      <td>RPLP0</td>\n",
              "      <td>TUBA1B</td>\n",
              "      <td>NAP1L1</td>\n",
              "      <td>TPCN1</td>\n",
              "      <td>RAP1B</td>\n",
              "      <td>ATP2B1-AS1</td>\n",
              "      <td>RPL14P1</td>\n",
              "    </tr>\n",
              "    <tr>\n",
              "      <th>14</th>\n",
              "      <td>ATP5F1B</td>\n",
              "      <td>ESYT1</td>\n",
              "      <td>HSP90B1</td>\n",
              "      <td>CD69</td>\n",
              "      <td>FGFR1OP2</td>\n",
              "      <td>ETV6</td>\n",
              "      <td>CPNE8</td>\n",
              "      <td>PCBP2</td>\n",
              "      <td>TUBA1C</td>\n",
              "      <td>ATP5MC2</td>\n",
              "      <td>ETNK1</td>\n",
              "    </tr>\n",
              "  </tbody>\n",
              "</table>\n",
              "</div>"
            ],
            "text/plain": [
              "                     B cell      Comm  ...    Monocyte     Prog\n",
              "0                      DTX1    TESPA1  ...         LYZ    HMGA2\n",
              "1   MLXIP (ENSG00000175727)    PLXNC1  ...       PLBD1     MLF2\n",
              "2                       CD9    SCARB1  ...       LRRK2    BCAT1\n",
              "3                   SLC38A1  ATP6V0A2  ...      SLC2A3    NEMP1\n",
              "4                    SCARB1     BCAT1  ...       ALDH2    KNTC1\n",
              "5                    CLEC2D     PPM1H  ...     ZNF385A    RAP1B\n",
              "6                     SRSF9      CDK4  ...     HNRNPA1   NCAPD2\n",
              "7                    RIMKLB     MGST1  ...     ATP5F1B    PCBP2\n",
              "8                      YBX3    METAP2  ...       CKAP4     DENR\n",
              "9   BCL7A (ENSG00000110987)      CMAS  ...        BTG1    TROAP\n",
              "10                     LRMP    MRPL42  ...       RPL41    PRIM1\n",
              "11                   WASHC4    TUBA1A  ...         CD4     AAAS\n",
              "12                    RPL41      NFE2  ...        LDHB  SMARCC2\n",
              "13                MIR1244-3     FKBP4  ...  ATP2B1-AS1  RPL14P1\n",
              "14                  ATP5F1B     ESYT1  ...     ATP5MC2    ETNK1\n",
              "\n",
              "[15 rows x 11 columns]"
            ]
          },
          "metadata": {
            "tags": []
          },
          "execution_count": 58
        }
      ]
    }
  ]
}