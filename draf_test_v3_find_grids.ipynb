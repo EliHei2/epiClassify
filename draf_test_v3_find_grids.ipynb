{
 "cells": [
  {
   "cell_type": "code",
   "execution_count": 1,
   "metadata": {
    "id": "BcRIfa439Wlb"
   },
   "outputs": [],
   "source": [
    "from utils import *\n",
    "from dataset import *\n",
    "from model import *\n",
    "from classifier import *"
   ]
  },
  {
   "cell_type": "code",
   "execution_count": 2,
   "metadata": {},
   "outputs": [],
   "source": [
    "from sklearn.utils.extmath import fast_logdet\n",
    "\n",
    "def ebic(covariance, precision, n_samples, n_features, gamma=0):\n",
    "    \"\"\"\n",
    "    Extended Bayesian Information Criteria for model selection.\n",
    "    When using path mode, use this as an alternative to cross-validation for\n",
    "    finding lambda.\n",
    "    See:\n",
    "        \"Extended Bayesian Information Criteria for Gaussian Graphical Models\"\n",
    "        R. Foygel and M. Drton, NIPS 2010\n",
    "    Parameters\n",
    "    ----------\n",
    "    covariance : 2D ndarray (n_features, n_features)\n",
    "        Maximum Likelihood Estimator of covariance (sample covariance)\n",
    "    precision : 2D ndarray (n_features, n_features)\n",
    "        The precision matrix of the model to be tested\n",
    "    n_samples :  int\n",
    "        Number of examples.\n",
    "    n_features : int\n",
    "        Dimension of an example.\n",
    "    gamma : (float) \\in (0, 1)\n",
    "        Choice of gamma=0 leads to classical BIC\n",
    "        Positive gamma leads to stronger penalization of large graphs.\n",
    "    Returns\n",
    "    -------\n",
    "    ebic score (float).  Caller should minimized this score.\n",
    "    \"\"\"\n",
    "    l_theta = -np.sum(covariance * precision) + fast_logdet(precision)\n",
    "    l_theta *= n_features / 2.\n",
    "\n",
    "    # is something goes wrong with fast_logdet, return large value\n",
    "    if np.isinf(l_theta) or np.isnan(l_theta):\n",
    "        return 1e10\n",
    "\n",
    "    mask = np.abs(precision.flat) > np.finfo(precision.dtype).eps\n",
    "    precision_nnz = (np.sum(mask) - n_features) / 2.0  # lower off diagonal tri\n",
    "\n",
    "    return (\n",
    "        -2.0 * l_theta\n",
    "        + precision_nnz * np.log(n_samples)\n",
    "        + 4.0 * precision_nnz * np.log(n_features) * gamma\n",
    "    )"
   ]
  },
  {
   "cell_type": "code",
   "execution_count": 3,
   "metadata": {
    "id": "Kk2uQSI8VwqP"
   },
   "outputs": [],
   "source": [
    "if torch.cuda.is_available():  \n",
    "  dev = \"cuda:0\" \n",
    "else:  \n",
    "  dev = \"cpu\"  \n",
    "device = torch.device(dev)  "
   ]
  },
  {
   "cell_type": "code",
   "execution_count": 7,
   "metadata": {},
   "outputs": [
    {
     "name": "stdout",
     "output_type": "stream",
     "text": [
      "Wall time: 1h 28min 24s\n"
     ]
    }
   ],
   "source": [
    "%%time\n",
    "\n",
    "# Model - SBM, noise = 0.4, diffusion_coef = 0.2, \n",
    "\n",
    "dataset = Dataset(tag='EXP')\n",
    "\n",
    "scaler = StandardScaler()\n",
    "\n",
    "from sklearn.model_selection import KFold\n",
    "\n",
    "NrFolds = 4\n",
    "kf = KFold(n_splits=NrFolds)\n",
    "\n",
    "alpha_grid = np.linspace(0.0, 3.0, num=150)\n",
    "\n",
    "EBIC = np.zeros(len(alpha_grid))\n",
    "\n",
    "n_obs_grid = [100, 500, 1000]\n",
    "n_features_grid = [50, 125, 250]\n",
    "signal_grid = [2, 5, 10]\n",
    "\n",
    "# n_obs_grid = [100]\n",
    "# n_features_grid = [50]\n",
    "# signal_grid = [2]\n",
    "\n",
    "alpha_optim_grid = []\n",
    "\n",
    "for n_obs_s in n_obs_grid:\n",
    "    \n",
    "    for n_features_s in n_features_grid: \n",
    "        \n",
    "        for signal_s in signal_grid: \n",
    "\n",
    "            dataset.create_syn(n_classes = 5, \n",
    "                               n_obs_train = n_obs_s, \n",
    "                               n_obs_test= n_obs_s, \n",
    "                               n_features=n_features_s,\n",
    "                               n_char_features = 10, \n",
    "                               signal =[signal_s, signal_s], \n",
    "                               diff_coef=[.02, .02], \n",
    "                               noise = [.4, .4], \n",
    "                               n_communities = 5,\n",
    "                               probs = [0.9, 0.1], \n",
    "                               n_iter=1, \n",
    "                               model ='SBM')\n",
    "            \n",
    "            data_s = scaler.fit_transform(dataset.X_train)\n",
    "            \n",
    "            data = data_s\n",
    "            \n",
    "            for idx, alphas in enumerate(alpha_grid, start=0):\n",
    "                \n",
    "                for train_index, test_index in kf.split(data):\n",
    "                    \n",
    "                    X_trn, X_tst = data[train_index,:], data[test_index,:]\n",
    "    \n",
    "                    _ , n_samples_trn = X_trn.shape\n",
    "                    cov_emp_trn = np.dot(X_trn.T, X_trn) / n_samples_trn\n",
    "     \n",
    "                    covariance_trn, precision_matrix_trn = graphical_lasso(emp_cov=cov_emp_trn, alpha=alphas, mode='cd')\n",
    "    \n",
    "                    n_features_tst, n_samples_tst = X_tst.shape\n",
    "                    cov_emp_tst = np.dot(X_tst.T, X_tst) / n_samples_tst\n",
    "    \n",
    "                    covariance_tst, precision_matrix_tst = graphical_lasso(emp_cov=cov_emp_tst, alpha=alphas, mode='cd')\n",
    "    \n",
    "                    EBIC[idx] = EBIC[idx] + ebic(covariance_trn, precision_matrix_tst, n_samples_tst, n_features_tst, gamma = 0)\n",
    " \n",
    "             \n",
    "            index_min_ebic = np.argmin(EBIC)\n",
    "\n",
    "            alpha_optim_ebic = alpha_grid[index_min_ebic]\n",
    "\n",
    "            alpha_optim_grid = np.append(alpha_optim_grid, alpha_optim_ebic)  "
   ]
  },
  {
   "cell_type": "code",
   "execution_count": 9,
   "metadata": {},
   "outputs": [
    {
     "data": {
      "text/plain": [
       "2.919463087248322"
      ]
     },
     "execution_count": 9,
     "metadata": {},
     "output_type": "execute_result"
    }
   ],
   "source": [
    "alpha_optim_ebic"
   ]
  },
  {
   "cell_type": "code",
   "execution_count": 8,
   "metadata": {},
   "outputs": [
    {
     "data": {
      "text/plain": [
       "array([0.84563758, 0.88590604, 0.90604027, 0.90604027, 0.90604027,\n",
       "       0.90604027, 0.90604027, 0.        , 0.90604027, 2.15436242,\n",
       "       2.17449664, 2.25503356, 2.25503356, 2.25503356, 2.25503356,\n",
       "       2.25503356, 2.25503356, 2.25503356, 2.91946309, 2.91946309,\n",
       "       2.91946309, 2.91946309, 2.91946309, 2.91946309, 2.91946309,\n",
       "       2.91946309, 2.91946309])"
      ]
     },
     "execution_count": 8,
     "metadata": {},
     "output_type": "execute_result"
    }
   ],
   "source": [
    "alpha_optim_grid"
   ]
  },
  {
   "cell_type": "code",
   "execution_count": null,
   "metadata": {},
   "outputs": [],
   "source": []
  }
 ],
 "metadata": {
  "colab": {
   "collapsed_sections": [],
   "name": "draf_test.ipynb",
   "provenance": []
  },
  "kernelspec": {
   "display_name": "Python 3",
   "language": "python",
   "name": "python3"
  },
  "language_info": {
   "codemirror_mode": {
    "name": "ipython",
    "version": 3
   },
   "file_extension": ".py",
   "mimetype": "text/x-python",
   "name": "python",
   "nbconvert_exporter": "python",
   "pygments_lexer": "ipython3",
   "version": "3.8.3"
  }
 },
 "nbformat": 4,
 "nbformat_minor": 4
}
