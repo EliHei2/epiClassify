{
 "cells": [
  {
   "cell_type": "code",
   "execution_count": 1,
   "metadata": {},
   "outputs": [],
   "source": [
    "n_obs = 1000\n",
    "n_features = 500\n",
    "nb_edges = 3\n",
    "n_classes = 3"
   ]
  },
  {
   "cell_type": "code",
   "execution_count": 2,
   "metadata": {},
   "outputs": [],
   "source": [
    "from simulation import simulation_and_estimation"
   ]
  },
  {
   "cell_type": "code",
   "execution_count": 3,
   "metadata": {},
   "outputs": [
    {
     "name": "stderr",
     "output_type": "stream",
     "text": [
      "C:\\Users\\aygul\\anaconda3\\lib\\site-packages\\sklearn\\covariance\\_graph_lasso.py:264: ConvergenceWarning: graphical_lasso: did not converge after 100 iteration: dual gap: 7.164e-04\n",
      "  warnings.warn('graphical_lasso: did not converge after '\n",
      "C:\\Users\\aygul\\anaconda3\\lib\\site-packages\\sklearn\\covariance\\_graph_lasso.py:240: RuntimeWarning: invalid value encountered in multiply\n",
      "  precision_[indices != idx, idx] = (- precision_[idx, idx]\n",
      "C:\\Users\\aygul\\anaconda3\\lib\\site-packages\\sklearn\\covariance\\_graph_lasso.py:242: RuntimeWarning: invalid value encountered in multiply\n",
      "  precision_[idx, indices != idx] = (- precision_[idx, idx]\n",
      "C:\\Users\\aygul\\anaconda3\\lib\\site-packages\\sklearn\\covariance\\_graph_lasso.py:240: RuntimeWarning: invalid value encountered in multiply\n",
      "  precision_[indices != idx, idx] = (- precision_[idx, idx]\n",
      "C:\\Users\\aygul\\anaconda3\\lib\\site-packages\\sklearn\\covariance\\_graph_lasso.py:242: RuntimeWarning: invalid value encountered in multiply\n",
      "  precision_[idx, indices != idx] = (- precision_[idx, idx]\n",
      "C:\\Users\\aygul\\anaconda3\\lib\\site-packages\\numpy\\core\\_methods.py:38: RuntimeWarning: overflow encountered in reduce\n",
      "  return umr_sum(a, axis, dtype, out, keepdims, initial, where)\n",
      "C:\\Users\\aygul\\anaconda3\\lib\\site-packages\\sklearn\\covariance\\_graph_lasso.py:240: RuntimeWarning: invalid value encountered in multiply\n",
      "  precision_[indices != idx, idx] = (- precision_[idx, idx]\n",
      "C:\\Users\\aygul\\anaconda3\\lib\\site-packages\\sklearn\\covariance\\_graph_lasso.py:242: RuntimeWarning: invalid value encountered in multiply\n",
      "  precision_[idx, indices != idx] = (- precision_[idx, idx]\n"
     ]
    },
    {
     "name": "stdout",
     "output_type": "stream",
     "text": [
      "Wall time: 10min 9s\n"
     ]
    }
   ],
   "source": [
    "%%time\n",
    "\n",
    "avg_TP, avg_TN, avg_FP, avg_FN, avg_precision, avg_recall, avg_f1_score = simulation_and_estimation(n_classes,n_obs,n_features,nb_edges,nb_characteristic_features=3, \\\n",
    "                             signal=2,diffusion_coefficient=0.5,noise=0.5,nb_simulations=10)"
   ]
  },
  {
   "cell_type": "code",
   "execution_count": 4,
   "metadata": {},
   "outputs": [
    {
     "data": {
      "text/plain": [
       "2892.8"
      ]
     },
     "execution_count": 4,
     "metadata": {},
     "output_type": "execute_result"
    }
   ],
   "source": [
    "avg_TP"
   ]
  },
  {
   "cell_type": "code",
   "execution_count": 5,
   "metadata": {},
   "outputs": [
    {
     "data": {
      "text/plain": [
       "7111.2"
      ]
     },
     "execution_count": 5,
     "metadata": {},
     "output_type": "execute_result"
    }
   ],
   "source": [
    "avg_FP"
   ]
  },
  {
   "cell_type": "code",
   "execution_count": 6,
   "metadata": {},
   "outputs": [
    {
     "data": {
      "text/plain": [
       "239900.8"
      ]
     },
     "execution_count": 6,
     "metadata": {},
     "output_type": "execute_result"
    }
   ],
   "source": [
    "avg_TN"
   ]
  },
  {
   "cell_type": "code",
   "execution_count": 7,
   "metadata": {},
   "outputs": [
    {
     "data": {
      "text/plain": [
       "95.2"
      ]
     },
     "execution_count": 7,
     "metadata": {},
     "output_type": "execute_result"
    }
   ],
   "source": [
    "avg_FN"
   ]
  },
  {
   "cell_type": "code",
   "execution_count": 8,
   "metadata": {},
   "outputs": [
    {
     "data": {
      "text/plain": [
       "0.6567677818584902"
      ]
     },
     "execution_count": 8,
     "metadata": {},
     "output_type": "execute_result"
    }
   ],
   "source": [
    "avg_f1_score"
   ]
  },
  {
   "cell_type": "code",
   "execution_count": 9,
   "metadata": {},
   "outputs": [
    {
     "data": {
      "text/plain": [
       "0.9681392235609103"
      ]
     },
     "execution_count": 9,
     "metadata": {},
     "output_type": "execute_result"
    }
   ],
   "source": [
    "avg_recall"
   ]
  },
  {
   "cell_type": "code",
   "execution_count": 10,
   "metadata": {},
   "outputs": [
    {
     "data": {
      "text/plain": [
       "0.5440287329322213"
      ]
     },
     "execution_count": 10,
     "metadata": {},
     "output_type": "execute_result"
    }
   ],
   "source": [
    "avg_precision"
   ]
  },
  {
   "cell_type": "code",
   "execution_count": null,
   "metadata": {},
   "outputs": [],
   "source": []
  }
 ],
 "metadata": {
  "kernelspec": {
   "display_name": "Python 3",
   "language": "python",
   "name": "python3"
  },
  "language_info": {
   "codemirror_mode": {
    "name": "ipython",
    "version": 3
   },
   "file_extension": ".py",
   "mimetype": "text/x-python",
   "name": "python",
   "nbconvert_exporter": "python",
   "pygments_lexer": "ipython3",
   "version": "3.8.3"
  }
 },
 "nbformat": 4,
 "nbformat_minor": 4
}
