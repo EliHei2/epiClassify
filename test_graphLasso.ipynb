{
 "cells": [
  {
   "cell_type": "code",
   "execution_count": 159,
   "metadata": {},
   "outputs": [],
   "source": [
    "import numpy as np\n",
    "from sklearn import preprocessing\n",
    "from sklearn.covariance import GraphicalLassoCV , GraphicalLasso\n",
    "from sklearn.metrics import precision_recall_fscore_support\n",
    "from synthetic import generate_dataset\n",
    "from adjacency_score import performance_metrics\n"
   ]
  },
  {
   "cell_type": "code",
   "execution_count": 160,
   "metadata": {},
   "outputs": [],
   "source": [
    "n_obs = 1000\n",
    "n_features = 20\n",
    "nb_edges = 3 #average, per node\n",
    "n_classes = 3\n",
    "\n",
    "X_s,y_s,graph_s = generate_dataset(nb_classes=n_classes,nb_obs=n_obs,nb_features=n_features,nb_edges=nb_edges,\\\n",
    "                                           nb_characteristic_features=3,signal=0.8,diffusion_coefficient=0.5,noise=0.0,model=\"ER\",random_seed=0)"
   ]
  },
  {
   "cell_type": "code",
   "execution_count": 161,
   "metadata": {},
   "outputs": [],
   "source": [
    "true_adj_s = np.array(graph_s.get_adjacency().data)\n",
    "true_adj_s = ((true_adj_s+ true_adj_s.transpose())>0).astype(int) # in case the graph was directed"
   ]
  },
  {
   "cell_type": "code",
   "execution_count": 162,
   "metadata": {},
   "outputs": [],
   "source": [
    "# standardize the features, as suggested in https://scikit-learn.org/stable/modules/covariance.html#sparse-inverse-covariance\n",
    "X_scaled = preprocessing.scale(X_s)"
   ]
  },
  {
   "cell_type": "code",
   "execution_count": 166,
   "metadata": {},
   "outputs": [],
   "source": [
    "# GraphicalLassoCV tends to select an alpha which results in too many FP.\n",
    "# Might be worth it to implement our own CV method (here I just picked one good alpha value)\n",
    "\n",
    "#cov = GraphicalLassoCV().fit(X2_scaled)\n",
    "cov = GraphicalLasso(alpha=0.15).fit(X_scaled)"
   ]
  },
  {
   "cell_type": "code",
   "execution_count": 167,
   "metadata": {},
   "outputs": [],
   "source": [
    "precision_matrix = cov.get_precision()\n",
    "est_adj_s = precision_matrix.astype(bool).astype(int)\n",
    "# The adjacency matrix has no self-edge, so remove the diagonal\n",
    "est_adj_s-=np.eye(n_features,dtype=int) "
   ]
  },
  {
   "cell_type": "code",
   "execution_count": 168,
   "metadata": {},
   "outputs": [
    {
     "name": "stdout",
     "output_type": "stream",
     "text": [
      "Precision: 0.835820895522388\n",
      "Recall: 0.9333333333333333\n"
     ]
    }
   ],
   "source": [
    "ps,rs,fs,ss = precision_recall_fscore_support(true_adj_s, est_adj_s, average = 'micro')\n",
    "print(\"Precision: \" + str(ps))\n",
    "print(\"Recall: \" + str(rs))"
   ]
  },
  {
   "cell_type": "code",
   "execution_count": null,
   "metadata": {},
   "outputs": [],
   "source": []
  },
  {
   "cell_type": "code",
   "execution_count": null,
   "metadata": {},
   "outputs": [],
   "source": []
  },
  {
   "cell_type": "code",
   "execution_count": null,
   "metadata": {},
   "outputs": [],
   "source": []
  }
 ],
 "metadata": {
  "kernelspec": {
   "display_name": "Python 3",
   "language": "python",
   "name": "python3"
  },
  "language_info": {
   "codemirror_mode": {
    "name": "ipython",
    "version": 3
   },
   "file_extension": ".py",
   "mimetype": "text/x-python",
   "name": "python",
   "nbconvert_exporter": "python",
   "pygments_lexer": "ipython3",
   "version": "3.7.8"
  }
 },
 "nbformat": 4,
 "nbformat_minor": 4
}
