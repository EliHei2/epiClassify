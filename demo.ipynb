{
 "cells": [
  {
   "cell_type": "code",
   "execution_count": 8,
   "metadata": {
    "id": "BcRIfa439Wlb"
   },
   "outputs": [],
   "source": [
    "from GNNProject.utils import *\n",
    "from GNNProject.dataset import *\n",
    "from GNNProject.model import *\n",
    "from GNNProject.classifier import *"
   ]
  },
  {
   "cell_type": "code",
   "execution_count": 9,
   "metadata": {
    "id": "Kk2uQSI8VwqP"
   },
   "outputs": [],
   "source": [
    "if torch.cuda.is_available():  \n",
    "  dev = \"cuda:0\" \n",
    "else:  \n",
    "  dev = \"cpu\"  \n",
    "device = torch.device(dev)  "
   ]
  },
  {
   "cell_type": "markdown",
   "metadata": {},
   "source": [
    "## Generate a synthetic dataset"
   ]
  },
  {
   "cell_type": "code",
   "execution_count": 10,
   "metadata": {},
   "outputs": [],
   "source": [
    "n_classes=3\n",
    "n_features=100\n",
    "n_char_features=10\n",
    "n_obs_train=500\n",
    "n_obs_test=1000\n",
    "epochs=20"
   ]
  },
  {
   "cell_type": "code",
   "execution_count": 11,
   "metadata": {
    "colab": {
     "base_uri": "https://localhost:8080/",
     "height": 599
    },
    "id": "2PYk9UWiZAak",
    "outputId": "7c6d70e3-f38d-49a2-83a8-c0e881c8a1f6"
   },
   "outputs": [],
   "source": [
    "dataset = Dataset(tag='EXP1')\n",
    "\n",
    "dataset.create_syn(n_classes = n_classes, \n",
    "                   n_obs_train = n_obs_train, \n",
    "                   n_obs_test= n_obs_test, \n",
    "                   n_features=n_features,\n",
    "                   n_char_features = n_char_features,  \n",
    "                   model ='BA',\n",
    "                   syn_method=\"sign\")\n",
    "\n",
    "dataset.create_graph(alphas=1)\n",
    "\n",
    "\n",
    "train_dataloader = dataset._dataloader('train',use_true_graph=True,batch_size=16)\n",
    "test_dataloader  = dataset._dataloader('test',use_true_graph=True,batch_size=16)"
   ]
  },
  {
   "cell_type": "markdown",
   "metadata": {},
   "source": [
    "## Fit and evaluate a GNN"
   ]
  },
  {
   "cell_type": "code",
   "execution_count": 12,
   "metadata": {
    "colab": {
     "base_uri": "https://localhost:8080/"
    },
    "id": "ntRjRKNIhFPv",
    "outputId": "364d6f25-05af-4ce9-85dc-586932eafcf8"
   },
   "outputs": [
    {
     "name": "stdout",
     "output_type": "stream",
     "text": [
      "[1] loss: 0.068\n",
      "[3] loss: 0.005\n",
      "[5] loss: 0.000\n",
      "[7] loss: 0.000\n",
      "[9] loss: 0.001\n",
      "[11] loss: 0.000\n",
      "[13] loss: 0.000\n",
      "[15] loss: 0.000\n",
      "[17] loss: 0.000\n",
      "[19] loss: 0.000\n",
      "Accuracy: 1.000\n",
      "Confusion Matrix:n [[1000    0    0]\n",
      " [   0 1000    0]\n",
      " [   0    0 1000]]\n",
      "Precision: 1.000\n",
      "Recall: 1.000\n",
      "f1_score: 1.000\n"
     ]
    }
   ],
   "source": [
    "clf = Classifier(n_features=n_features,\n",
    "        n_classes=n_classes,\n",
    "        n_hidden_GNN=[8],\n",
    "        n_hidden_FC=[],\n",
    "        dropout_FC=0.2,\n",
    "        dropout_GNN=0.2,\n",
    "        K=2,\n",
    "        classifier='GraphSAGE', \n",
    "        lr=.001,\n",
    "        momentum=.9,\n",
    "        log_dir=\"runs/GNN_TrueGraph\",\n",
    "        device = device) \n",
    "\n",
    "clf.fit(train_dataloader, epochs = epochs, test_dataloader=test_dataloader,verbose=True)\n",
    "_ = clf.eval(test_dataloader, verbose=True)"
   ]
  },
  {
   "cell_type": "markdown",
   "metadata": {},
   "source": [
    "## Fit and evaluate a MLP"
   ]
  },
  {
   "cell_type": "code",
   "execution_count": 13,
   "metadata": {
    "colab": {
     "base_uri": "https://localhost:8080/"
    },
    "id": "5AC_3jjmWP3-",
    "outputId": "b019be0b-c8fc-4315-8b82-e48bf23985ba",
    "scrolled": true
   },
   "outputs": [
    {
     "name": "stdout",
     "output_type": "stream",
     "text": [
      "[1] loss: 2.046\n",
      "[3] loss: 0.159\n",
      "[5] loss: 0.126\n",
      "[7] loss: 0.134\n",
      "[9] loss: 0.101\n",
      "[11] loss: 0.111\n",
      "[13] loss: 0.047\n",
      "[15] loss: 0.085\n",
      "[17] loss: 0.054\n",
      "[19] loss: 0.057\n",
      "Accuracy: 1.000\n",
      "Confusion Matrix:n [[1000    0    0]\n",
      " [   0 1000    0]\n",
      " [   0    0 1000]]\n",
      "Precision: 1.000\n",
      "Recall: 1.000\n",
      "f1_score: 1.000\n"
     ]
    }
   ],
   "source": [
    "clf = Classifier(n_features=n_features,\n",
    "        n_classes=n_classes,\n",
    "        n_hidden_GNN=[],\n",
    "        n_hidden_FC=[40],\n",
    "        dropout_FC=0.2,\n",
    "        classifier='MLP', \n",
    "        lr=.001, \n",
    "        momentum=.9,\n",
    "        log_dir=\"runs/MLP\")\n",
    "clf.fit(train_dataloader, epochs = epochs, test_dataloader=test_dataloader,verbose=True)\n",
    "_ = clf.eval(test_dataloader, verbose=True)"
   ]
  },
  {
   "cell_type": "code",
   "execution_count": null,
   "metadata": {},
   "outputs": [],
   "source": []
  }
 ],
 "metadata": {
  "colab": {
   "collapsed_sections": [],
   "name": "draf_test.ipynb",
   "provenance": []
  },
  "kernelspec": {
   "display_name": "Python 3",
   "language": "python",
   "name": "python3"
  },
  "language_info": {
   "codemirror_mode": {
    "name": "ipython",
    "version": 3
   },
   "file_extension": ".py",
   "mimetype": "text/x-python",
   "name": "python",
   "nbconvert_exporter": "python",
   "pygments_lexer": "ipython3",
   "version": "3.7.4"
  }
 },
 "nbformat": 4,
 "nbformat_minor": 1
}
