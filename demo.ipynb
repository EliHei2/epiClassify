{
 "cells": [
  {
   "cell_type": "code",
   "execution_count": 1,
   "metadata": {
    "id": "BcRIfa439Wlb"
   },
   "outputs": [],
   "source": [
    "from GNNProject.utils import *\n",
    "from GNNProject.dataset import *\n",
    "from GNNProject.model import *\n",
    "from GNNProject.classifier import *"
   ]
  },
  {
   "cell_type": "code",
   "execution_count": 2,
   "metadata": {
    "id": "Kk2uQSI8VwqP"
   },
   "outputs": [],
   "source": [
    "if torch.cuda.is_available():  \n",
    "  dev = \"cuda:0\" \n",
    "else:  \n",
    "  dev = \"cpu\"  \n",
    "device = torch.device(dev)  "
   ]
  },
  {
   "cell_type": "markdown",
   "metadata": {},
   "source": [
    "## Generate a synthetic dataset"
   ]
  },
  {
   "cell_type": "code",
   "execution_count": 3,
   "metadata": {},
   "outputs": [],
   "source": [
    "n_classes=3\n",
    "n_features=100\n",
    "n_char_features=10\n",
    "n_obs_train=500\n",
    "n_obs_test=2000\n",
    "epochs=20"
   ]
  },
  {
   "cell_type": "code",
   "execution_count": 4,
   "metadata": {
    "colab": {
     "base_uri": "https://localhost:8080/",
     "height": 599
    },
    "id": "2PYk9UWiZAak",
    "outputId": "7c6d70e3-f38d-49a2-83a8-c0e881c8a1f6"
   },
   "outputs": [],
   "source": [
    "dataset = Dataset(tag='EXP1')\n",
    "\n",
    "dataset.create_syn(n_classes = n_classes, \n",
    "                   n_obs_train = n_obs_train, \n",
    "                   n_obs_test= n_obs_test, \n",
    "                   n_features=n_features,\n",
    "                   n_char_features = n_char_features,\n",
    "                   noise = [.2, .2], \n",
    "                   model ='BA',\n",
    "                   syn_method=\"sign\")\n",
    "\n",
    "dataset.create_graph(alphas=0.5)\n",
    "\n",
    "\n",
    "train_dataloader = dataset._dataloader('train',use_true_graph=True,batch_size=16)\n",
    "test_dataloader  = dataset._dataloader('test',use_true_graph=True,batch_size=16)"
   ]
  },
  {
   "cell_type": "markdown",
   "metadata": {},
   "source": [
    "## Fit and evaluate a GNN"
   ]
  },
  {
   "cell_type": "code",
   "execution_count": 5,
   "metadata": {
    "colab": {
     "base_uri": "https://localhost:8080/"
    },
    "id": "ntRjRKNIhFPv",
    "outputId": "364d6f25-05af-4ce9-85dc-586932eafcf8"
   },
   "outputs": [
    {
     "name": "stdout",
     "output_type": "stream",
     "text": [
      "[1] loss: 1.087\n",
      "[3] loss: 0.616\n",
      "[5] loss: 0.488\n",
      "[7] loss: 0.461\n",
      "[9] loss: 0.439\n",
      "[11] loss: 0.449\n",
      "[13] loss: 0.404\n",
      "[15] loss: 0.381\n",
      "[17] loss: 0.379\n",
      "[19] loss: 0.314\n",
      "Accuracy: 0.814\n",
      "Confusion Matrix:\n",
      " [[1737  122  141]\n",
      " [ 256 1545  199]\n",
      " [ 243  157 1600]]\n",
      "Precision: 0.816\n",
      "Recall: 0.814\n",
      "f1_score: 0.813\n"
     ]
    }
   ],
   "source": [
    "clf = Classifier(n_features=n_features,\n",
    "        n_classes=n_classes,\n",
    "        n_hidden_GNN=[8],\n",
    "        n_hidden_FC=[],\n",
    "        dropout_FC=0.2,\n",
    "        dropout_GNN=0.2,\n",
    "        K=2,\n",
    "        classifier='GraphSAGE', \n",
    "        lr=.001,\n",
    "        momentum=.9,\n",
    "        log_dir=\"runs/GNN_TrueGraph\",\n",
    "        device = device) \n",
    "\n",
    "clf.fit(train_dataloader, epochs = epochs, test_dataloader=test_dataloader,verbose=True)\n",
    "_ = clf.eval(test_dataloader, verbose=True)"
   ]
  },
  {
   "cell_type": "markdown",
   "metadata": {},
   "source": [
    "## Fit and evaluate a MLP"
   ]
  },
  {
   "cell_type": "code",
   "execution_count": 6,
   "metadata": {
    "colab": {
     "base_uri": "https://localhost:8080/"
    },
    "id": "5AC_3jjmWP3-",
    "outputId": "b019be0b-c8fc-4315-8b82-e48bf23985ba",
    "scrolled": true
   },
   "outputs": [
    {
     "name": "stdout",
     "output_type": "stream",
     "text": [
      "[1] loss: 1.111\n",
      "[3] loss: 1.011\n",
      "[5] loss: 0.872\n",
      "[7] loss: 0.729\n",
      "[9] loss: 0.619\n",
      "[11] loss: 0.533\n",
      "[13] loss: 0.484\n",
      "[15] loss: 0.396\n",
      "[17] loss: 0.344\n",
      "[19] loss: 0.328\n",
      "Accuracy: 0.456\n",
      "Confusion Matrix:\n",
      " [[959 532 509]\n",
      " [601 872 527]\n",
      " [591 504 905]]\n",
      "Precision: 0.456\n",
      "Recall: 0.456\n",
      "f1_score: 0.456\n"
     ]
    }
   ],
   "source": [
    "clf = Classifier(n_features=n_features,\n",
    "        n_classes=n_classes,\n",
    "        n_hidden_GNN=[],\n",
    "        n_hidden_FC=[40],\n",
    "        dropout_FC=0.2,\n",
    "        classifier='MLP', \n",
    "        lr=.001, \n",
    "        momentum=.9,\n",
    "        log_dir=\"runs/MLP\")\n",
    "clf.fit(train_dataloader, epochs = epochs, test_dataloader=test_dataloader,verbose=True)\n",
    "_ = clf.eval(test_dataloader, verbose=True)"
   ]
  },
  {
   "cell_type": "code",
   "execution_count": null,
   "metadata": {},
   "outputs": [],
   "source": []
  }
 ],
 "metadata": {
  "colab": {
   "collapsed_sections": [],
   "name": "draf_test.ipynb",
   "provenance": []
  },
  "kernelspec": {
   "display_name": "Python 3",
   "language": "python",
   "name": "python3"
  },
  "language_info": {
   "codemirror_mode": {
    "name": "ipython",
    "version": 3
   },
   "file_extension": ".py",
   "mimetype": "text/x-python",
   "name": "python",
   "nbconvert_exporter": "python",
   "pygments_lexer": "ipython3",
   "version": "3.7.4"
  }
 },
 "nbformat": 4,
 "nbformat_minor": 1
}
